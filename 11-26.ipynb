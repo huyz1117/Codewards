{
 "cells": [
  {
   "cell_type": "markdown",
   "metadata": {},
   "source": [
    "## 1. Descending Order"
   ]
  },
  {
   "cell_type": "markdown",
   "metadata": {},
   "source": [
    "Your task is to make a function that can take any non-negative integer as a argument and return it with its digits in descending order. Essentially, rearrange the digits to create the highest possible number."
   ]
  },
  {
   "cell_type": "markdown",
   "metadata": {},
   "source": [
    "Examples: Input: 21445 Output: 54421, Input: 145263 Output: 654321"
   ]
  },
  {
   "cell_type": "markdown",
   "metadata": {},
   "source": [
    "此题为排序问题，考虑到Python内置的排序函数sort()和sorted().\n",
    "- sort()好像只能对list操作，而且如果将num转成list会比较麻烦，会用到for循环，所以考虑转成str\n",
    "- 对str进行排序，会返回一个新的列表，然后用join()函数，连接成一个str,再强转成int\n",
    "- 听上去很复杂，代码写起来并不复杂。"
   ]
  },
  {
   "cell_type": "markdown",
   "metadata": {},
   "source": [
    "join()函数说明：\n",
    "- 语法：\"sep\".join(seq)\n",
    "    - sep:分隔符，可以为空\n",
    "    - 要连接的元素序列、字符串、元组、字典\n",
    "- 返回一个以分隔符sep连接各元素后生成的字符串"
   ]
  },
  {
   "cell_type": "markdown",
   "metadata": {},
   "source": [
    "os.path.join(path1, [path2, ...]) \n",
    "- 返回值：将目录和文件名合成一个路径"
   ]
  },
  {
   "cell_type": "markdown",
   "metadata": {},
   "source": [
    "sort()函数用于对原列表进行排序，list(cmp=None, key=None, reverse=False)   # reverse=True为降序，reverse=False为升序(默认)"
   ]
  },
  {
   "cell_type": "markdown",
   "metadata": {},
   "source": [
    "sorted(iterable, key=None, reverse=False)  # 不会改变原来的对象，而是会返回一个新的列表"
   ]
  },
  {
   "cell_type": "code",
   "execution_count": 1,
   "metadata": {
    "collapsed": true
   },
   "outputs": [],
   "source": [
    "def descending_order(num):\n",
    "    return int(''.join(sorted(str(num), reverse=True)))"
   ]
  },
  {
   "cell_type": "code",
   "execution_count": 2,
   "metadata": {},
   "outputs": [
    {
     "data": {
      "text/plain": [
       "5432"
      ]
     },
     "execution_count": 2,
     "metadata": {},
     "output_type": "execute_result"
    }
   ],
   "source": [
    "descending_order(2345)"
   ]
  }
 ],
 "metadata": {
  "kernelspec": {
   "display_name": "Python 3",
   "language": "python",
   "name": "python3"
  },
  "language_info": {
   "codemirror_mode": {
    "name": "ipython",
    "version": 3
   },
   "file_extension": ".py",
   "mimetype": "text/x-python",
   "name": "python",
   "nbconvert_exporter": "python",
   "pygments_lexer": "ipython3",
   "version": "3.6.3"
  }
 },
 "nbformat": 4,
 "nbformat_minor": 2
}
